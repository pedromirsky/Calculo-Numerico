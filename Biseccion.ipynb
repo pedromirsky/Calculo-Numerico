{
  "nbformat": 4,
  "nbformat_minor": 0,
  "metadata": {
    "colab": {
      "name": "Biseccion.ipynb",
      "provenance": [],
      "collapsed_sections": [],
      "authorship_tag": "ABX9TyOha7rsNmanzxWSjnsz4q5w",
      "include_colab_link": true
    },
    "kernelspec": {
      "name": "python3",
      "display_name": "Python 3"
    },
    "language_info": {
      "name": "python"
    }
  },
  "cells": [
    {
      "cell_type": "markdown",
      "metadata": {
        "id": "view-in-github",
        "colab_type": "text"
      },
      "source": [
        "<a href=\"https://colab.research.google.com/github/pedromirsky/Calculo-Numerico/blob/main/Biseccion.ipynb\" target=\"_parent\"><img src=\"https://colab.research.google.com/assets/colab-badge.svg\" alt=\"Open In Colab\"/></a>"
      ]
    },
    {
      "cell_type": "markdown",
      "metadata": {
        "id": "rcXgEENwwmE7"
      },
      "source": [
        ""
      ]
    },
    {
      "cell_type": "code",
      "metadata": {
        "id": "WL9UVUxXwdTU"
      },
      "source": [
        ""
      ],
      "execution_count": null,
      "outputs": []
    },
    {
      "cell_type": "markdown",
      "metadata": {
        "id": "qa-FeaNHwezc"
      },
      "source": [
        "### **Método Bisección:**\n",
        "\n",
        "\n",
        "\n",
        "\n"
      ]
    },
    {
      "cell_type": "code",
      "metadata": {
        "colab": {
          "base_uri": "https://localhost:8080/",
          "height": 976
        },
        "id": "6hn1DH6W0-86",
        "outputId": "a0816300-2bf9-4784-bb6b-09fe2fd4b310"
      },
      "source": [
        "from sympy import *\n",
        "from sympy.plotting import plot\n",
        "import numpy as np\n",
        "import matplotlib.pyplot as plt\n",
        "import pandas as pd\n",
        "import math\n",
        "\n",
        "x = symbols('x')\n",
        "#f = 2*x + 5\n",
        "#f = 2*x**2 - 6*x\n",
        "#f= x**3 + 2*x**2 + 2\n",
        "f = x**2 - 4 \n",
        "\n",
        "p1 = plot(f, show=True)\n",
        "#roots\n",
        "roots(f, multiple=True)\n",
        "\n",
        "\n",
        "def raizIteracion(a,b,f,iteracionMax = 100000):\n",
        "  print(f\"Hallando raíz dentro del intervalo ( {a} , {b})\")\n",
        "\n",
        "  valores_a = []\n",
        "  valores_b = []\n",
        "  valores_c = []\n",
        "  valores_fc = []\n",
        "\n",
        "  datos = {\n",
        "    'a' : valores_a,\n",
        "    'b' : valores_b,\n",
        "    'c' : valores_c,\n",
        "    'fc': valores_fc\n",
        "    }\n",
        "\n",
        "  fa = f.subs(x,a)\n",
        "  fb = f.subs(x,b)\n",
        "  c = (a + b) / 2\n",
        "  raizHallada = False\n",
        "  contador = 0    \n",
        "  \n",
        "  while raizHallada == False: # ver de sacar el ==False\n",
        "      c = (a + b) / 2\n",
        "      contador += 1\n",
        "\n",
        "      valores_a.append(a)\n",
        "      valores_b.append(b)\n",
        "      valores_c.append(c)\n",
        "\n",
        "      # print(fa * fb)\n",
        "      if fa * fb < 0:\n",
        "        fc = f.subs(x,c)\n",
        "        valores_fc.append(fc)\n",
        "\n",
        "     \n",
        "        # if fc >= -0.5 and fc <= 0.5:\n",
        "        if fc == 0: # el programa termina solo cuando se da esta condicion\n",
        "          print(\"iteraciones: \")\n",
        "          print(contador)\n",
        "          print(\"raiz: \") \n",
        "          print(c)\n",
        "          raizHallada = True\n",
        "\n",
        "        else:  \n",
        "          # print(fc)\n",
        "          if fa * fc < 0:\n",
        "            b = c\n",
        "          else:\n",
        "            a = c\n",
        "       \n",
        "      if contador >= iteracionMax: # corta cuando cumplen las iteraciones maximas\n",
        "          print(\"iteraciones se cortaron en el limite maximo: \")\n",
        "          print(contador)\n",
        "          print(\"raiz mas cercana: \") \n",
        "          print(c)\n",
        "          raizHallada = True\n",
        "\n",
        "  df = pd.DataFrame(datos)\n",
        "\n",
        "  df['a'].plot()\n",
        "  df['b'].plot() \n",
        "  df['c'].plot() \n",
        "  #df['fc'].plot()  \n",
        "\n",
        "  return df.head(100)   \n",
        "  \n",
        "          \n",
        "\n",
        "#raizIteracion(-1,2,f)\n",
        "raizIteracion(0,5,f,10)\n",
        "\n",
        "\n"
      ],
      "execution_count": null,
      "outputs": [
        {
          "output_type": "display_data",
          "data": {
            "image/png": "[encoded data removed]",
            "text/plain": [
              "<Figure size 432x288 with 1 Axes>"
            ]
          },
          "metadata": {
            "needs_background": "light"
          }
        },
        {
          "output_type": "stream",
          "name": "stdout",
          "text": [
            "Hallando raíz dentro del intervalo ( 0 , 5)\n",
            "iteraciones se cortaron en el limite maximo: \n",
            "10\n",
            "raiz mas cercana: \n",
            "1.9970703125\n"
          ]
        },
        {
          "output_type": "execute_result",
          "data": {
            "text/html": [
              "<div>\n",
              "<style scoped>\n",
              "    .dataframe tbody tr th:only-of-type {\n",
              "        vertical-align: middle;\n",
              "    }\n",
              "\n",
              "    .dataframe tbody tr th {\n",
              "        vertical-align: top;\n",
              "    }\n",
              "\n",
              "    .dataframe thead th {\n",
              "        text-align: right;\n",
              "    }\n",
              "</style>\n",
              "<table border=\"1\" class=\"dataframe\">\n",
              "  <thead>\n",
              "    <tr style=\"text-align: right;\">\n",
              "      <th></th>\n",
              "      <th>a</th>\n",
              "      <th>b</th>\n",
              "      <th>c</th>\n",
              "      <th>fc</th>\n",
              "    </tr>\n",
              "  </thead>\n",
              "  <tbody>\n",
              "    <tr>\n",
              "      <th>0</th>\n",
              "      <td>0.000000</td>\n",
              "      <td>5.000000</td>\n",
              "      <td>2.500000</td>\n",
              "      <td>2.25000000000000</td>\n",
              "    </tr>\n",
              "    <tr>\n",
              "      <th>1</th>\n",
              "      <td>0.000000</td>\n",
              "      <td>2.500000</td>\n",
              "      <td>1.250000</td>\n",
              "      <td>-2.43750000000000</td>\n",
              "    </tr>\n",
              "    <tr>\n",
              "      <th>2</th>\n",
              "      <td>1.250000</td>\n",
              "      <td>2.500000</td>\n",
              "      <td>1.875000</td>\n",
              "      <td>-0.484375000000000</td>\n",
              "    </tr>\n",
              "    <tr>\n",
              "      <th>3</th>\n",
              "      <td>1.875000</td>\n",
              "      <td>2.500000</td>\n",
              "      <td>2.187500</td>\n",
              "      <td>0.785156250000000</td>\n",
              "    </tr>\n",
              "    <tr>\n",
              "      <th>4</th>\n",
              "      <td>1.875000</td>\n",
              "      <td>2.187500</td>\n",
              "      <td>2.031250</td>\n",
              "      <td>0.125976562500000</td>\n",
              "    </tr>\n",
              "    <tr>\n",
              "      <th>5</th>\n",
              "      <td>1.875000</td>\n",
              "      <td>2.031250</td>\n",
              "      <td>1.953125</td>\n",
              "      <td>-0.185302734375000</td>\n",
              "    </tr>\n",
              "    <tr>\n",
              "      <th>6</th>\n",
              "      <td>1.953125</td>\n",
              "      <td>2.031250</td>\n",
              "      <td>1.992188</td>\n",
              "      <td>-0.0311889648437500</td>\n",
              "    </tr>\n",
              "    <tr>\n",
              "      <th>7</th>\n",
              "      <td>1.992188</td>\n",
              "      <td>2.031250</td>\n",
              "      <td>2.011719</td>\n",
              "      <td>0.0470123291015625</td>\n",
              "    </tr>\n",
              "    <tr>\n",
              "      <th>8</th>\n",
              "      <td>1.992188</td>\n",
              "      <td>2.011719</td>\n",
              "      <td>2.001953</td>\n",
              "      <td>0.00781631469726563</td>\n",
              "    </tr>\n",
              "    <tr>\n",
              "      <th>9</th>\n",
              "      <td>1.992188</td>\n",
              "      <td>2.001953</td>\n",
              "      <td>1.997070</td>\n",
              "      <td>-0.0117101669311523</td>\n",
              "    </tr>\n",
              "  </tbody>\n",
              "</table>\n",
              "</div>"
            ],
            "text/plain": [
              "          a         b         c                   fc\n",
              "0  0.000000  5.000000  2.500000     2.25000000000000\n",
              "1  0.000000  2.500000  1.250000    -2.43750000000000\n",
              "2  1.250000  2.500000  1.875000   -0.484375000000000\n",
              "3  1.875000  2.500000  2.187500    0.785156250000000\n",
              "4  1.875000  2.187500  2.031250    0.125976562500000\n",
              "5  1.875000  2.031250  1.953125   -0.185302734375000\n",
              "6  1.953125  2.031250  1.992188  -0.0311889648437500\n",
              "7  1.992188  2.031250  2.011719   0.0470123291015625\n",
              "8  1.992188  2.011719  2.001953  0.00781631469726563\n",
              "9  1.992188  2.001953  1.997070  -0.0117101669311523"
            ]
          },
          "metadata": {},
          "execution_count": 1
        },
        {
          "output_type": "display_data",
          "data": {
            "image/png": "[encoded data removed]",
            "text/plain": [
              "<Figure size 432x288 with 1 Axes>"
            ]
          },
          "metadata": {
            "needs_background": "light"
          }
        }
      ]
    },
    {
      "cell_type": "code",
      "metadata": {
        "colab": {
          "base_uri": "https://localhost:8080/",
          "height": 296
        },
        "id": "ETzU76a5_cN9",
        "outputId": "4a692cf7-0ec8-4205-c65d-4c16f83f211e"
      },
      "source": [
        "\n",
        "p1 = plot(f, show=True)"
      ],
      "execution_count": null,
      "outputs": [
        {
          "output_type": "display_data",
          "data": {
            "image/png": "[encoded data removed]",
            "text/plain": [
              "<Figure size 432x288 with 1 Axes>"
            ]
          },
          "metadata": {
            "needs_background": "light"
          }
        }
      ]
    },
    {
      "cell_type": "code",
      "metadata": {
        "colab": {
          "base_uri": "https://localhost:8080/",
          "height": 1000
        },
        "id": "ZUVAsLtT5z42",
        "outputId": "d4f2627e-9c9e-4c75-f137-ad3b3edc0184"
      },
      "source": [
        "#x = symbols('x')\n",
        "\n",
        "def biseccion(a,b,f,iteracionMax = 10000, tol = 0):\n",
        "  print(f\"Hallando raíz dentro del intervalo ( {a} , {b})\")\n",
        "  #x = symbols('x')\n",
        "\n",
        "  valores_a = []\n",
        "  valores_b = []\n",
        "  valores_c = []\n",
        "  valores_fc = []\n",
        "  valores_e = []\n",
        "\n",
        "  datos = {\n",
        "    'a' : valores_a,\n",
        "    'b' : valores_b,\n",
        "    'c' : valores_c,\n",
        "    'fc': valores_fc,\n",
        "    'e' : valores_e\n",
        "    }\n",
        "\n",
        "  fa = f.subs(x,a)\n",
        "  fb = f.subs(x,b)\n",
        "  c = (a + b) / 2\n",
        "  raizHallada = False\n",
        "  contador = 0    \n",
        "  \n",
        "  while raizHallada == False: # ver de sacar el ==False\n",
        "      c = (a + b) / 2\n",
        "      contador += 1\n",
        "      \n",
        "\n",
        "      valores_a.append(a)\n",
        "      valores_b.append(b)\n",
        "      valores_c.append(c)\n",
        "\n",
        "      if  len(valores_e) > 0 : # Para que no me ponga primer valor del array de e = 0. (q despues me arruina el tema de <= tol... hace q me corte en la primera iteracion)\n",
        "        e = abs(c-valores_c[contador-2])\n",
        "      else:\n",
        "        e = abs(c)\n",
        "\n",
        "      valores_e.append(e)\n",
        "\n",
        "      # print(fa * fb)\n",
        "      if fa * fb < 0:\n",
        "        fc = f.subs(x,c)\n",
        "        \n",
        "        valores_fc.append(fc)\n",
        "        \n",
        "\n",
        "     \n",
        "        # if fc >= -0.5 and fc <= 0.5: # ACA CREO QUE HAY Q COMPARAR FC PREVIO CON ACTUAL! VER CALSES GRABADAS \n",
        "        # \n",
        "        # print(e)\n",
        "        if e <= tol:\n",
        "        #if fc == 0: # el programa termina solo cuando se da esta condicion\n",
        "          print(\"iteraciones: \")\n",
        "          print(contador)\n",
        "          print(\"raiz: \") \n",
        "          print(c)\n",
        "          raizHallada = True\n",
        "\n",
        "        else:  \n",
        "          # print(fc)\n",
        "          if fa * fc < 0:\n",
        "            b = c\n",
        "          else:\n",
        "            a = c\n",
        "       \n",
        "      if contador >= iteracionMax: # corta cuando cumplen las iteraciones maximas\n",
        "          print(\"iteraciones se cortaron en el limite maximo: \")\n",
        "          print(contador)\n",
        "          print(\"raiz mas cercana: \") \n",
        "          print(c)\n",
        "          raizHallada = True\n",
        "\n",
        "  df = pd.DataFrame(datos)\n",
        "  df=df.astype(float) # si no no me plotea fc, no lo toma como numeric.\n",
        "\n",
        "  df['a'].plot()\n",
        "  df['b'].plot() \n",
        "  df['c'].plot() \n",
        "  df['fc'].plot()  \n",
        "\n",
        "  return df.head(10) \n",
        "  #return df['fc']\n",
        "x = symbols(\"x\")\n",
        "f1 = x**2 - 4\n",
        "biseccion(-5,0, f1)"
      ],
      "execution_count": null,
      "outputs": [
        {
          "output_type": "stream",
          "name": "stdout",
          "text": [
            "Hallando raíz dentro del intervalo ( -5 , 0)\n",
            "2.5\n",
            "1.25\n",
            "0.625\n",
            "0.3125\n",
            "0.15625\n",
            "0.078125\n",
            "0.0390625\n",
            "0.01953125\n",
            "0.009765625\n",
            "0.0048828125\n",
            "0.00244140625\n",
            "0.001220703125\n",
            "0.0006103515625\n",
            "0.00030517578125\n",
            "0.000152587890625\n",
            "7.62939453125e-05\n",
            "3.814697265625e-05\n",
            "1.9073486328125e-05\n",
            "9.5367431640625e-06\n",
            "4.76837158203125e-06\n",
            "2.384185791015625e-06\n",
            "1.1920928955078125e-06\n",
            "5.960464477539062e-07\n",
            "2.980232238769531e-07\n",
            "1.4901161193847656e-07\n",
            "7.450580596923828e-08\n",
            "3.725290298461914e-08\n",
            "1.862645149230957e-08\n",
            "9.313225746154785e-09\n",
            "4.6566128730773926e-09\n",
            "2.3283064365386963e-09\n",
            "1.1641532182693481e-09\n",
            "5.820766091346741e-10\n",
            "2.9103830456733704e-10\n",
            "1.4551915228366852e-10\n",
            "7.275957614183426e-11\n",
            "3.637978807091713e-11\n",
            "1.8189894035458565e-11\n",
            "9.094947017729282e-12\n",
            "4.547473508864641e-12\n",
            "2.2737367544323206e-12\n",
            "1.1368683772161603e-12\n",
            "5.684341886080801e-13\n",
            "2.8421709430404007e-13\n",
            "1.4210854715202004e-13\n",
            "7.105427357601002e-14\n",
            "3.552713678800501e-14\n",
            "1.7763568394002505e-14\n",
            "8.881784197001252e-15\n",
            "4.440892098500626e-15\n",
            "2.220446049250313e-15\n",
            "1.3322676295501878e-15\n",
            "8.881784197001252e-16\n",
            "2.220446049250313e-16\n",
            "2.220446049250313e-16\n",
            "0.0\n",
            "iteraciones: \n",
            "56\n",
            "raiz: \n",
            "-2.0\n"
          ]
        },
        {
          "output_type": "execute_result",
          "data": {
            "text/html": [
              "<div>\n",
              "<style scoped>\n",
              "    .dataframe tbody tr th:only-of-type {\n",
              "        vertical-align: middle;\n",
              "    }\n",
              "\n",
              "    .dataframe tbody tr th {\n",
              "        vertical-align: top;\n",
              "    }\n",
              "\n",
              "    .dataframe thead th {\n",
              "        text-align: right;\n",
              "    }\n",
              "</style>\n",
              "<table border=\"1\" class=\"dataframe\">\n",
              "  <thead>\n",
              "    <tr style=\"text-align: right;\">\n",
              "      <th></th>\n",
              "      <th>a</th>\n",
              "      <th>b</th>\n",
              "      <th>c</th>\n",
              "      <th>fc</th>\n",
              "      <th>e</th>\n",
              "    </tr>\n",
              "  </thead>\n",
              "  <tbody>\n",
              "    <tr>\n",
              "      <th>0</th>\n",
              "      <td>-5.000000</td>\n",
              "      <td>0.000000</td>\n",
              "      <td>-2.500000</td>\n",
              "      <td>2.250000</td>\n",
              "      <td>2.500000</td>\n",
              "    </tr>\n",
              "    <tr>\n",
              "      <th>1</th>\n",
              "      <td>-2.500000</td>\n",
              "      <td>0.000000</td>\n",
              "      <td>-1.250000</td>\n",
              "      <td>-2.437500</td>\n",
              "      <td>1.250000</td>\n",
              "    </tr>\n",
              "    <tr>\n",
              "      <th>2</th>\n",
              "      <td>-2.500000</td>\n",
              "      <td>-1.250000</td>\n",
              "      <td>-1.875000</td>\n",
              "      <td>-0.484375</td>\n",
              "      <td>0.625000</td>\n",
              "    </tr>\n",
              "    <tr>\n",
              "      <th>3</th>\n",
              "      <td>-2.500000</td>\n",
              "      <td>-1.875000</td>\n",
              "      <td>-2.187500</td>\n",
              "      <td>0.785156</td>\n",
              "      <td>0.312500</td>\n",
              "    </tr>\n",
              "    <tr>\n",
              "      <th>4</th>\n",
              "      <td>-2.187500</td>\n",
              "      <td>-1.875000</td>\n",
              "      <td>-2.031250</td>\n",
              "      <td>0.125977</td>\n",
              "      <td>0.156250</td>\n",
              "    </tr>\n",
              "    <tr>\n",
              "      <th>5</th>\n",
              "      <td>-2.031250</td>\n",
              "      <td>-1.875000</td>\n",
              "      <td>-1.953125</td>\n",
              "      <td>-0.185303</td>\n",
              "      <td>0.078125</td>\n",
              "    </tr>\n",
              "    <tr>\n",
              "      <th>6</th>\n",
              "      <td>-2.031250</td>\n",
              "      <td>-1.953125</td>\n",
              "      <td>-1.992188</td>\n",
              "      <td>-0.031189</td>\n",
              "      <td>0.039062</td>\n",
              "    </tr>\n",
              "    <tr>\n",
              "      <th>7</th>\n",
              "      <td>-2.031250</td>\n",
              "      <td>-1.992188</td>\n",
              "      <td>-2.011719</td>\n",
              "      <td>0.047012</td>\n",
              "      <td>0.019531</td>\n",
              "    </tr>\n",
              "    <tr>\n",
              "      <th>8</th>\n",
              "      <td>-2.011719</td>\n",
              "      <td>-1.992188</td>\n",
              "      <td>-2.001953</td>\n",
              "      <td>0.007816</td>\n",
              "      <td>0.009766</td>\n",
              "    </tr>\n",
              "    <tr>\n",
              "      <th>9</th>\n",
              "      <td>-2.001953</td>\n",
              "      <td>-1.992188</td>\n",
              "      <td>-1.997070</td>\n",
              "      <td>-0.011710</td>\n",
              "      <td>0.004883</td>\n",
              "    </tr>\n",
              "  </tbody>\n",
              "</table>\n",
              "</div>"
            ],
            "text/plain": [
              "          a         b         c        fc         e\n",
              "0 -5.000000  0.000000 -2.500000  2.250000  2.500000\n",
              "1 -2.500000  0.000000 -1.250000 -2.437500  1.250000\n",
              "2 -2.500000 -1.250000 -1.875000 -0.484375  0.625000\n",
              "3 -2.500000 -1.875000 -2.187500  0.785156  0.312500\n",
              "4 -2.187500 -1.875000 -2.031250  0.125977  0.156250\n",
              "5 -2.031250 -1.875000 -1.953125 -0.185303  0.078125\n",
              "6 -2.031250 -1.953125 -1.992188 -0.031189  0.039062\n",
              "7 -2.031250 -1.992188 -2.011719  0.047012  0.019531\n",
              "8 -2.011719 -1.992188 -2.001953  0.007816  0.009766\n",
              "9 -2.001953 -1.992188 -1.997070 -0.011710  0.004883"
            ]
          },
          "metadata": {},
          "execution_count": 35
        },
        {
          "output_type": "display_data",
          "data": {
            "image/png": "[encoded data removed]",
            "text/plain": [
              "<Figure size 432x288 with 1 Axes>"
            ]
          },
          "metadata": {
            "needs_background": "light"
          }
        }
      ]
    },
    {
      "cell_type": "code",
      "metadata": {
        "colab": {
          "base_uri": "https://localhost:8080/"
        },
        "id": "qymbTh8f7h28",
        "outputId": "2cc3b155-25c4-46da-c81c-18ef027b6232"
      },
      "source": [
        " valores_g = []\n",
        "\n",
        " len(valores_g)\n",
        "\n"
      ],
      "execution_count": null,
      "outputs": [
        {
          "output_type": "execute_result",
          "data": {
            "text/plain": [
              "0"
            ]
          },
          "metadata": {},
          "execution_count": 26
        }
      ]
    },
    {
      "cell_type": "code",
      "metadata": {
        "id": "os2eYhFU9FIt"
      },
      "source": [
        ""
      ],
      "execution_count": null,
      "outputs": []
    }
  ]
}