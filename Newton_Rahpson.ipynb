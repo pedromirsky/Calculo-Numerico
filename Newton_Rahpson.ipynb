{
  "nbformat": 4,
  "nbformat_minor": 0,
  "metadata": {
    "colab": {
      "name": "Newton Rahpson.ipynb",
      "provenance": [],
      "collapsed_sections": [],
      "authorship_tag": "ABX9TyPSYJ+QJpB3gkP9VlwAq7dh",
      "include_colab_link": true
    },
    "kernelspec": {
      "name": "python3",
      "display_name": "Python 3"
    },
    "language_info": {
      "name": "python"
    }
  },
  "cells": [
    {
      "cell_type": "markdown",
      "metadata": {
        "id": "view-in-github",
        "colab_type": "text"
      },
      "source": [
        "<a href=\"https://colab.research.google.com/github/pedromirsky/Calculo-Numerico/blob/main/Newton_Rahpson.ipynb\" target=\"_parent\"><img src=\"https://colab.research.google.com/assets/colab-badge.svg\" alt=\"Open In Colab\"/></a>"
      ]
    },
    {
      "cell_type": "code",
      "metadata": {
        "id": "kxE6IYIL5l3T"
      },
      "source": [
        "import sympy as sp\n",
        "from math import *\n",
        "import numpy\n",
        "x = sp.Symbol('x')\n",
        "\n",
        "from sympy import *\n",
        "from sympy.plotting import plot\n",
        "import numpy as np\n",
        "import matplotlib.pyplot as plt\n",
        "import pandas as pd\n",
        "import math\n"
      ],
      "execution_count": null,
      "outputs": []
    },
    {
      "cell_type": "code",
      "metadata": {
        "id": "EiqpiARwQQWP"
      },
      "source": [
        "def NewtonRaphson(x0,f,iteracionMax,tol):\n",
        "\n",
        "  valores_x0 = []\n",
        "  valores_fx0 = []\n",
        "  valores_x1 = []\n",
        "  valores_e = []\n",
        "\n",
        "  datos = {\n",
        "    'x0' : valores_x0,\n",
        "    'fx0' : valores_fx0,\n",
        "    'x1' : valores_x1,\n",
        "    'e' : valores_e\n",
        "    }\n",
        "\n",
        "  \n",
        "  x = sp.Symbol('x')\n",
        "  #f =x**3 -4*x+1\n",
        "  #f = (cos(x) + x**2)\n",
        "  df = sp.diff(f)\n",
        "\n",
        "  f = sp.lambdify(x,f) # lambdify para pasar de sympy a funciones y poder trabajarlas\n",
        "  df = sp.lambdify(x,df)\n",
        "\n",
        "  for i in range(iteracionMax):\n",
        "\n",
        "    valores_x0.append(x0)\n",
        "    valores_fx0.append(f(x0))\n",
        "    \n",
        "\n",
        "    x1= x0 - f(x0)/df(x0)\n",
        "    print(x1)\n",
        "\n",
        "    valores_x1.append(x1)\n",
        "    valores_e.append(abs(x1-x0))\n",
        "\n",
        "\n",
        "    #x1= x0 -( (f.subs(x,x0)) / (df.subs(x,x0)) )  --> como uso lamdify no necesito ponerlo asi\n",
        "    #x1 = float(x1) # si no me lo da en fracción\n",
        "    \n",
        "    if(abs(x1-x0)< tol):\n",
        "      # print(\"error menor a la tolerancia: \",abs(x1-x0))\n",
        "      print(\"iteraciones: \" + str(i+1))\n",
        "      df = pd.DataFrame(datos)\n",
        "\n",
        "      #df['x0'].plot()\n",
        "      #df['fx0'].plot() \n",
        "      #df['x1'].plot() \n",
        "      df['e'].plot()  \n",
        "\n",
        "      #return df.head(100)\n",
        "      print(\"raíz hallada: \")\n",
        "\n",
        "      return x1\n",
        "      \n",
        "    x0 = x1\n",
        "    #print(\"x\", i+1 , \"=\" , x1)\n",
        "\n",
        "  df = pd.DataFrame(datos)\n",
        "\n",
        "  #df['x0'].plot()\n",
        "  #df['fx0'].plot() \n",
        "  #df['x1'].plot() \n",
        "  df['e'].plot()  \n",
        "\n",
        "  #return df.head(100)\n",
        "    "
      ],
      "execution_count": null,
      "outputs": []
    },
    {
      "cell_type": "code",
      "metadata": {
        "colab": {
          "base_uri": "https://localhost:8080/",
          "height": 456
        },
        "id": "v9TVJK2f6aeD",
        "outputId": "f17ca24a-2e2a-477c-f464-924661d7b49d"
      },
      "source": [
        "f = x**3 -4*x+1\n",
        "x0 = 1\n",
        "tol = 0.0000005\n",
        "iteracionMax = 100\n",
        "\n",
        "NewtonRaphson(x0,f,iteracionMax,tol)\n"
      ],
      "execution_count": null,
      "outputs": [
        {
          "output_type": "stream",
          "name": "stdout",
          "text": [
            "-1.0\n",
            "3.0\n",
            "2.3043478260869565\n",
            "1.9674894766212205\n",
            "1.8694704706730896\n",
            "1.8608706827071453\n",
            "1.8608058567843473\n",
            "1.8608058531117033\n",
            "iteraciones: 8\n",
            "raíz hallada: \n"
          ]
        },
        {
          "output_type": "execute_result",
          "data": {
            "text/plain": [
              "1.8608058531117033"
            ]
          },
          "metadata": {},
          "execution_count": 13
        },
        {
          "output_type": "display_data",
          "data": {
            "image/png": "[encoded data removed]",
            "text/plain": [
              "<Figure size 432x288 with 1 Axes>"
            ]
          },
          "metadata": {
            "needs_background": "light"
          }
        }
      ]
    },
    {
      "cell_type": "markdown",
      "metadata": {
        "id": "JBSJkpXyYVC6"
      },
      "source": [
        "Evaluar funcion o derivadas:\n"
      ]
    },
    {
      "cell_type": "code",
      "metadata": {
        "colab": {
          "base_uri": "https://localhost:8080/",
          "height": 39
        },
        "id": "xkKAeCj_YB7n",
        "outputId": "2605a4a5-358c-47c3-9c9f-1fea1b5e35d4"
      },
      "source": [
        "diff(f,x,1)"
      ],
      "execution_count": null,
      "outputs": [
        {
          "output_type": "execute_result",
          "data": {
            "text/latex": "$\\displaystyle 4 x$",
            "text/plain": [
              "4*x"
            ]
          },
          "metadata": {},
          "execution_count": 78
        }
      ]
    },
    {
      "cell_type": "code",
      "metadata": {
        "colab": {
          "base_uri": "https://localhost:8080/",
          "height": 37
        },
        "id": "sxXf7DVRX17Y",
        "outputId": "88e8359c-88a9-4612-aaee-f3e71bed9b20"
      },
      "source": [
        "f.subs(x,3)"
      ],
      "execution_count": null,
      "outputs": [
        {
          "output_type": "execute_result",
          "data": {
            "text/latex": "$\\displaystyle 18$",
            "text/plain": [
              "18"
            ]
          },
          "metadata": {},
          "execution_count": 77
        }
      ]
    },
    {
      "cell_type": "code",
      "metadata": {
        "colab": {
          "base_uri": "https://localhost:8080/",
          "height": 37
        },
        "id": "__QD-K1DX5Av",
        "outputId": "4450dd1e-d23c-484b-a099-abb02372a460"
      },
      "source": [
        "diff(f,x,1).subs(x,2)"
      ],
      "execution_count": null,
      "outputs": [
        {
          "output_type": "execute_result",
          "data": {
            "text/latex": "$\\displaystyle 8$",
            "text/plain": [
              "8"
            ]
          },
          "metadata": {},
          "execution_count": 81
        }
      ]
    },
    {
      "cell_type": "code",
      "metadata": {
        "colab": {
          "base_uri": "https://localhost:8080/",
          "height": 37
        },
        "id": "WzOiHKZ1YRcU",
        "outputId": "5ab8d996-5618-40ed-e0e4-283b2e65cc81"
      },
      "source": [
        "df = diff(f,x,1)\n",
        "df.subs(x,2)"
      ],
      "execution_count": null,
      "outputs": [
        {
          "output_type": "execute_result",
          "data": {
            "text/latex": "$\\displaystyle 8$",
            "text/plain": [
              "8"
            ]
          },
          "metadata": {},
          "execution_count": 83
        }
      ]
    },
    {
      "cell_type": "code",
      "metadata": {
        "id": "u9FLv5R-Ye1_"
      },
      "source": [
        ""
      ],
      "execution_count": null,
      "outputs": []
    }
  ]
}