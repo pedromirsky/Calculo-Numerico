{
  "nbformat": 4,
  "nbformat_minor": 0,
  "metadata": {
    "colab": {
      "name": "FC2 prueba soluciones.ipynb",
      "provenance": [],
      "collapsed_sections": [],
      "authorship_tag": "ABX9TyNrbYD2puwyfkhAXfb7yne9",
      "include_colab_link": true
    },
    "kernelspec": {
      "name": "python3",
      "display_name": "Python 3"
    },
    "language_info": {
      "name": "python"
    }
  },
  "cells": [
    {
      "cell_type": "markdown",
      "metadata": {
        "id": "view-in-github",
        "colab_type": "text"
      },
      "source": [
        "<a href=\"https://colab.research.google.com/github/pedromirsky/Calculo-Numerico/blob/main/FC2_prueba_soluciones.ipynb\" target=\"_parent\"><img src=\"https://colab.research.google.com/assets/colab-badge.svg\" alt=\"Open In Colab\"/></a>"
      ]
    },
    {
      "cell_type": "code",
      "metadata": {
        "id": "ku6iqEm64HjM"
      },
      "source": [
        "from sympy import *\n",
        "import math\n",
        "from numpy import linspace\n",
        "import matplotlib.pyplot as pl\n",
        "import pandas as pd\n",
        "import numpy as np\n",
        "from sympy.plotting import plot\n",
        "import matplotlib.cm as cm\n"
      ],
      "execution_count": 30,
      "outputs": []
    },
    {
      "cell_type": "code",
      "metadata": {
        "colab": {
          "base_uri": "https://localhost:8080/",
          "height": 39
        },
        "id": "dFl6kWCf4KP-",
        "outputId": "accb5041-714c-4da2-ef65-87b7a6b9cb23"
      },
      "source": [
        "# state Pic , Ca\n",
        "# Tomo valores iniciales Pic(0) = Pic, Ca(0) = Ca --> (valores de la tabla)\n",
        "\n",
        "# tiempo\n",
        "t = Symbol(\"t\")\n",
        "\n",
        "# var de estado\n",
        "Pic = Function(\"Pic\")\n",
        "Ca = Function(\"Ca\")\n",
        "\n",
        "#input\n",
        "Pa = Function(\"Pa\")\n",
        "dPa_dt = Pa(t).diff()\n",
        "Pvs = Function(\"Pvs\")\n",
        "Ii = Function(\"Ii\")\n",
        "\n",
        "\n",
        "# Constantes:\n",
        "Can = 0.15\n",
        "Ro = 526.3\n",
        "Rpv = 1.24\n",
        "Rf = 2380\n",
        "kE = 0.11\n",
        "kR = 49100\n",
        "tau = 20\n",
        "qn = 12.5\n",
        "deltaCa1 = 0.75\n",
        "deltaCa2 = 0.075\n",
        "G = 1.5\n",
        "#Pc = 25\n",
        "\n",
        "#Pic = 9.5\n",
        "#Ca = 0.15\n",
        "\n",
        "##Pvs = 6\n",
        "##Pa = 100\n",
        "## Ii = ?\n",
        "\n",
        "\n",
        "\n",
        "#Cic = 1/(kE * Pic)\n",
        "#Va = Ca *(Pa-Pic)\n",
        "\n",
        "#q = (Pa-Pc)/Ra\n",
        "#q\n",
        "Ii(t)"
      ],
      "execution_count": 232,
      "outputs": [
        {
          "output_type": "execute_result",
          "data": {
            "text/latex": "$\\displaystyle \\operatorname{Ii}{\\left(t \\right)}$",
            "text/plain": [
              "Ii(t)"
            ]
          },
          "metadata": {},
          "execution_count": 232
        }
      ]
    },
    {
      "cell_type": "code",
      "metadata": {
        "colab": {
          "base_uri": "https://localhost:8080/"
        },
        "id": "2YFdAr_h4LzX",
        "outputId": "787f87e9-fd7c-4896-ce00-119603742a07"
      },
      "source": [
        "# 1:\n",
        "\n",
        "#CCa = {Ca(0):0.15}\n",
        "#CPic = {Pic(0):9.5}\n",
        "CI = {Pic(0):9.5, Ca(0):0.15}\n",
        "\n",
        "#ecuacion = Eq(dPa_dt,434343)\n",
        "#ecuacion\n",
        "#dsolve(ecuacion,Pa(t))\n",
        "#CI = {Pa(0):200}\n",
        "#dsolve(ecuacion,Pa(t),ics = CI)\n",
        "\n",
        "t = 5\n",
        "# 2: ?\n",
        "Pa(t), dPa_dt, Ii(t), Pvs(t)\n"
      ],
      "execution_count": 233,
      "outputs": [
        {
          "output_type": "execute_result",
          "data": {
            "text/plain": [
              "(Pa(5), Derivative(Pa(t), t), Ii(5), Pvs(5))"
            ]
          },
          "metadata": {},
          "execution_count": 233
        }
      ]
    },
    {
      "cell_type": "code",
      "metadata": {
        "colab": {
          "base_uri": "https://localhost:8080/"
        },
        "id": "7mpWh14y4NPG",
        "outputId": "56150548-3cf6-4ca1-e45d-86882cb079ca"
      },
      "source": [
        "#3\n",
        "Va = Function(\"Va\")\n",
        "#ecuacionVa = Eq(Va(t),Ca(t)*(Pa(t)-Pic(t)))\n",
        "\n",
        "# esto lo calculo con valores iniciales de Ca y Pic en (t=0) y el input en ese instante inicial Pa\n",
        "\n",
        "Pa0 = 100\n",
        "Pic0 = 9.5\n",
        "Ca0 = 0.15\n",
        "\n",
        "ecuacionVa = Eq(Va(t),Ca0*(Pa0-Pic0))\n",
        "\n",
        "\n",
        "#dsolve(ecuacionVa,Va(t)) #,ics = CI  CI = {Pic(0):9.5, Ca(0):0.15}\n",
        "ecuacionVa\n",
        "Va_t= Ca0*(Pa0-Pic0)\n",
        "Va_t"
      ],
      "execution_count": 234,
      "outputs": [
        {
          "output_type": "execute_result",
          "data": {
            "text/plain": [
              "13.575"
            ]
          },
          "metadata": {},
          "execution_count": 234
        }
      ]
    },
    {
      "cell_type": "code",
      "metadata": {
        "colab": {
          "base_uri": "https://localhost:8080/"
        },
        "id": "oViiQxwt4OlG",
        "outputId": "cf07a2b4-0a21-4a33-8525-a963b76d7ed3"
      },
      "source": [
        "#4:\n",
        "Ra = Function(\"Ra\")\n",
        "ecuacionRa = Eq(Ra(t),kR*(Can**2) / Va_t**2)\n",
        "ecuacionRa\n",
        "Ra_t = kR*(Can**2) / Va_t**2\n",
        "Ra_t"
      ],
      "execution_count": 235,
      "outputs": [
        {
          "output_type": "execute_result",
          "data": {
            "text/plain": [
              "5.994932999603187"
            ]
          },
          "metadata": {},
          "execution_count": 235
        }
      ]
    },
    {
      "cell_type": "code",
      "metadata": {
        "colab": {
          "base_uri": "https://localhost:8080/"
        },
        "id": "GK7kk6uI4eK2",
        "outputId": "a6599fc4-542f-4aee-db64-7ac561e51190"
      },
      "source": [
        "#5\n",
        "Pc = Function(\"Pc\")\n",
        "\n",
        "ecuacionPc = Eq(Pc(t),(Pa0*Rpv + Pic0*Ra_t)/(Rpv + Ra_t)) \n",
        "ecuacionPc\n",
        "\n",
        "Pc_t = (Pa0*Rpv + Pic0*Ra_t)/(Rpv + Ra_t)\n",
        "Pc_t"
      ],
      "execution_count": 236,
      "outputs": [
        {
          "output_type": "execute_result",
          "data": {
            "text/plain": [
              "25.010855457286876"
            ]
          },
          "metadata": {},
          "execution_count": 236
        }
      ]
    },
    {
      "cell_type": "code",
      "metadata": {
        "colab": {
          "base_uri": "https://localhost:8080/"
        },
        "id": "sCDQ2KEc7fvF",
        "outputId": "bf9a6205-70f6-4641-8cde-a15313ee1c92"
      },
      "source": [
        "q = Function(\"q\")\n",
        "ecuacionq = Eq(q(t),(Pa0-Pc_t)/(Ra_t)) \n",
        "ecuacionq\n",
        "q_t = (Pa0-Pc_t)/(Ra_t)\n",
        "q_t"
      ],
      "execution_count": 237,
      "outputs": [
        {
          "output_type": "execute_result",
          "data": {
            "text/plain": [
              "12.508754401037802"
            ]
          },
          "metadata": {},
          "execution_count": 237
        }
      ]
    },
    {
      "cell_type": "code",
      "metadata": {
        "colab": {
          "base_uri": "https://localhost:8080/"
        },
        "id": "P9LfJzkx7gD2",
        "outputId": "d8015e9c-547d-49cc-bca8-858654ac159c"
      },
      "source": [
        "x = Function(\"x\")\n",
        "ecuacionx = Eq(x(t),(q_t-qn)/(qn)) \n",
        "ecuacionx\n",
        "x_t = (q_t-qn)/(qn)\n",
        "x_t"
      ],
      "execution_count": 238,
      "outputs": [
        {
          "output_type": "execute_result",
          "data": {
            "text/plain": [
              "0.0007003520830241428"
            ]
          },
          "metadata": {},
          "execution_count": 238
        }
      ]
    },
    {
      "cell_type": "code",
      "metadata": {
        "id": "4-20edXd7i03"
      },
      "source": [
        "#7\n",
        "\n",
        "deltaCa = 0\n",
        "ko = 0\n",
        "if (x_t < 0) :\n",
        "  deltaCa = deltaCa1\n",
        "  ko = deltaCa1/4\n",
        "elif (x_t > 0):\n",
        "     deltaCa = deltaCa2\n",
        "     ko = deltaCa2/4\n"
      ],
      "execution_count": 239,
      "outputs": []
    },
    {
      "cell_type": "code",
      "metadata": {
        "colab": {
          "base_uri": "https://localhost:8080/",
          "height": 37
        },
        "id": "ujFWdht_7j2m",
        "outputId": "9df9796f-a3dd-48eb-8310-3b8d5b3748f2"
      },
      "source": [
        "#7\n",
        "\n",
        "omega = Function(\"σ\")\n",
        "import math\n",
        "# omega(G*x((t)))\n",
        "ecuacionOmega = (omega(G*x((t))),(  (Can + deltaCa/2) + (Can - deltaCa/2)  * exp(G*x_t/ko)  ) / (1+ exp(G*x_t/ko))  )\n",
        "ecuacionOmega\n",
        "omega_t = (  (Can + deltaCa/2) + (Can - deltaCa/2)  * exp(G*x_t/ko)  ) / (1+ exp(G*x_t/ko)) \n",
        "omega_t"
      ],
      "execution_count": 240,
      "outputs": [
        {
          "output_type": "execute_result",
          "data": {
            "text/latex": "$\\displaystyle 0.148949746603481$",
            "text/plain": [
              "0.148949746603481"
            ]
          },
          "metadata": {},
          "execution_count": 240
        }
      ]
    },
    {
      "cell_type": "code",
      "metadata": {
        "colab": {
          "base_uri": "https://localhost:8080/",
          "height": 37
        },
        "id": "sTv7zRDr7k6W",
        "outputId": "ac7b9809-6127-4731-cc46-d8e601c6c06f"
      },
      "source": [
        "# 8\n",
        "t = Symbol(\"t\")\n",
        "dCa_dt = Ca(t).diff()\n",
        "ecuacionddCa_dt = Eq(dCa_dt, (1/tau) * (-Ca(t) + omega_t) )\n",
        "ecuacionddCa_dt\n",
        "dCa_dt = (1/tau) * (-Ca(t) + omega_t) # aca es en función de Ca(t), más abajo de esta celda redefino esta variable con Ca(t) reemplazada\n",
        "# uso valor inicial de Ca para obtener C1\n",
        "\n",
        "CICa = {Ca(0):Ca0}\n",
        "ecuacionCa_t= dsolve(ecuaciondCa_dt,Ca(t),ics = CICa)\n",
        "\n",
        "\n",
        "ecuacionCa_t\n",
        "tCa = 5 # si uso t no funciona como quiero\n",
        "reemplazoCa_t = ecuacionCa_t.subs(t,tCa)\n",
        "# Paso del tipo sympy.core.relational.Equality a float (o algo numérico)\n",
        "type(Ca_t) \n",
        "Ca_t = reemplazoCa_t.rhs\n",
        "\n",
        "Ca_t\n",
        "\n",
        "dCa_dt = (1/tau) * (-Ca_t + omega_t)\n",
        "dCa_dt"
      ],
      "execution_count": 241,
      "outputs": [
        {
          "output_type": "execute_result",
          "data": {
            "text/latex": "$\\displaystyle -4.08969083816199 \\cdot 10^{-5}$",
            "text/plain": [
              "-4.08969083816199e-5"
            ]
          },
          "metadata": {},
          "execution_count": 241
        }
      ]
    },
    {
      "cell_type": "code",
      "metadata": {
        "colab": {
          "base_uri": "https://localhost:8080/",
          "height": 57
        },
        "id": "AUxy51DV7mAw",
        "outputId": "4c7ee808-de30-4f3b-8ca9-62e82800c1b1"
      },
      "source": [
        "# 9:\n",
        "Pvs = 6\n",
        "Ii_t = 0\n",
        "Pa_t = 100\n",
        "dPa_dt = 0\n",
        "\n",
        "dPic_dt = Pic(t).diff()\n",
        "ecuaciondPi_dt = Eq(dPic_dt, ( (kE * Pic(t))/(1+Ca_t*kE*Pic(t)) ) * ( Ca_t * dPa_dt + dCa_dt * (Pa_t - Pic(t)) + (( Pc_t - Pic(t))/Rf) - ((Pic(t)-Pvs)/(Ro)) + Ii_t )  )\n",
        "ecuaciondPi_dt\n",
        "\n",
        "# dsolve(ecuaciondPi_dt,Pic(t)) --> runge kutta?\n",
        "# dsolve(ecuacionVa,Va(t)) #,ics = CI  CI = {Pic(0):9.5, Ca(0):0.15}"
      ],
      "execution_count": 242,
      "outputs": [
        {
          "output_type": "execute_result",
          "data": {
            "text/latex": "$\\displaystyle \\frac{d}{d t} \\operatorname{Pic}{\\left(t \\right)} = \\frac{0.11 \\left(0.0178194139692777 - 0.00227932816055532 \\operatorname{Pic}{\\left(t \\right)}\\right) \\operatorname{Pic}{\\left(t \\right)}}{0.0164744453248224 \\operatorname{Pic}{\\left(t \\right)} + 1}$",
            "text/plain": [
              "Eq(Derivative(Pic(t), t), 0.11*(0.0178194139692777 - 0.00227932816055532*Pic(t))*Pic(t)/(0.0164744453248224*Pic(t) + 1))"
            ]
          },
          "metadata": {},
          "execution_count": 242
        }
      ]
    },
    {
      "cell_type": "code",
      "metadata": {
        "id": "gNw6bdGOMX7d"
      },
      "source": [
        "CIPic = {Pic(0): 9.5}\n",
        "ecuacionPic_t= dsolve(ecuaciondPi_dt,Pic(t),ics = CIPic)"
      ],
      "execution_count": null,
      "outputs": []
    },
    {
      "cell_type": "code",
      "metadata": {
        "colab": {
          "base_uri": "https://localhost:8080/"
        },
        "id": "Ph7cA-IQPBDd",
        "outputId": "c3a100ac-5fd2-4c55-e0b9-97338fc96b3f"
      },
      "source": [
        "def df(t,Pic):\n",
        "  #return 5*Pic\n",
        "  return (0.11*Pic*(0.0178194139692777-0.00227932816055532*Pic)) / (0.0164744453248224*Pic+1)"
      ],
      "execution_count": 215,
      "outputs": [
        {
          "output_type": "execute_result",
          "data": {
            "text/plain": [
              "-0.0046973860958469385"
            ]
          },
          "metadata": {},
          "execution_count": 215
        }
      ]
    },
    {
      "cell_type": "markdown",
      "metadata": {
        "id": "ZJawLCWRZS4j"
      },
      "source": [
        "![image.png](data:image/png;base64,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)"
      ]
    },
    {
      "cell_type": "code",
      "metadata": {
        "id": "cMHnK5XAOGUI"
      },
      "source": [
        "def RungeKutta4(df,x,y,xF,N):\n",
        "    X = []\n",
        "    Y = []\n",
        "    X.append(x)\n",
        "    Y.append(y)\n",
        "    h = float(xF-x)/N\n",
        "    for i in range(N):\n",
        "      k1 = df(x,y)\n",
        "      k2 = df(x+0.5*h,y +0.5*k1*h)\n",
        "      k3 = df(x+0.5*h,y +0.5*k2*h)\n",
        "      k4 = df(x+h,y + k3*h)\n",
        "      y = y + (1/6)*(k1+2*k2+2*k3+k4)*h\n",
        "      x = x+h\n",
        "      X.append(x)\n",
        "      Y.append(y)\n",
        "    return (X,Y)\n",
        "\n"
      ],
      "execution_count": 246,
      "outputs": []
    },
    {
      "cell_type": "code",
      "metadata": {
        "id": "6ifh-X7TIzBT"
      },
      "source": [
        ""
      ],
      "execution_count": null,
      "outputs": []
    }
  ]
}